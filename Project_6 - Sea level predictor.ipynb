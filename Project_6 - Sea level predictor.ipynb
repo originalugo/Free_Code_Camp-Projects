{
 "cells": [
  {
   "cell_type": "markdown",
   "metadata": {},
   "source": [
    "### Importing relevant libraries"
   ]
  },
  {
   "cell_type": "code",
   "execution_count": 1,
   "metadata": {},
   "outputs": [],
   "source": [
    "import numpy as np\n",
    "import pandas as pd\n",
    "import seaborn as sns\n",
    "import matplotlib.pyplot as plt\n",
    "import mitosheet\n",
    "sns.set()"
   ]
  },
  {
   "cell_type": "code",
   "execution_count": 65,
   "metadata": {},
   "outputs": [],
   "source": [
    "# setting few options \n",
    "pd.set_option('display.max_rows', 25)\n",
    "pd.set_option('display.precision', 3)"
   ]
  },
  {
   "cell_type": "markdown",
   "metadata": {},
   "source": [
    "### Loading the data"
   ]
  },
  {
   "cell_type": "code",
   "execution_count": 66,
   "metadata": {},
   "outputs": [
    {
     "data": {
      "text/html": [
       "<div>\n",
       "<style scoped>\n",
       "    .dataframe tbody tr th:only-of-type {\n",
       "        vertical-align: middle;\n",
       "    }\n",
       "\n",
       "    .dataframe tbody tr th {\n",
       "        vertical-align: top;\n",
       "    }\n",
       "\n",
       "    .dataframe thead th {\n",
       "        text-align: right;\n",
       "    }\n",
       "</style>\n",
       "<table border=\"1\" class=\"dataframe\">\n",
       "  <thead>\n",
       "    <tr style=\"text-align: right;\">\n",
       "      <th></th>\n",
       "      <th>Year</th>\n",
       "      <th>CSIRO Adjusted Sea Level</th>\n",
       "      <th>Lower Error Bound</th>\n",
       "      <th>Upper Error Bound</th>\n",
       "      <th>NOAA Adjusted Sea Level</th>\n",
       "    </tr>\n",
       "  </thead>\n",
       "  <tbody>\n",
       "    <tr>\n",
       "      <th>0</th>\n",
       "      <td>1880</td>\n",
       "      <td>0.000</td>\n",
       "      <td>-0.953</td>\n",
       "      <td>0.953</td>\n",
       "      <td>NaN</td>\n",
       "    </tr>\n",
       "    <tr>\n",
       "      <th>1</th>\n",
       "      <td>1881</td>\n",
       "      <td>0.220</td>\n",
       "      <td>-0.732</td>\n",
       "      <td>1.173</td>\n",
       "      <td>NaN</td>\n",
       "    </tr>\n",
       "    <tr>\n",
       "      <th>2</th>\n",
       "      <td>1882</td>\n",
       "      <td>-0.441</td>\n",
       "      <td>-1.346</td>\n",
       "      <td>0.465</td>\n",
       "      <td>NaN</td>\n",
       "    </tr>\n",
       "    <tr>\n",
       "      <th>3</th>\n",
       "      <td>1883</td>\n",
       "      <td>-0.232</td>\n",
       "      <td>-1.130</td>\n",
       "      <td>0.665</td>\n",
       "      <td>NaN</td>\n",
       "    </tr>\n",
       "    <tr>\n",
       "      <th>4</th>\n",
       "      <td>1884</td>\n",
       "      <td>0.591</td>\n",
       "      <td>-0.283</td>\n",
       "      <td>1.465</td>\n",
       "      <td>NaN</td>\n",
       "    </tr>\n",
       "  </tbody>\n",
       "</table>\n",
       "</div>"
      ],
      "text/plain": [
       "   Year  CSIRO Adjusted Sea Level  Lower Error Bound  Upper Error Bound  \\\n",
       "0  1880                     0.000             -0.953              0.953   \n",
       "1  1881                     0.220             -0.732              1.173   \n",
       "2  1882                    -0.441             -1.346              0.465   \n",
       "3  1883                    -0.232             -1.130              0.665   \n",
       "4  1884                     0.591             -0.283              1.465   \n",
       "\n",
       "   NOAA Adjusted Sea Level  \n",
       "0                      NaN  \n",
       "1                      NaN  \n",
       "2                      NaN  \n",
       "3                      NaN  \n",
       "4                      NaN  "
      ]
     },
     "execution_count": 66,
     "metadata": {},
     "output_type": "execute_result"
    }
   ],
   "source": [
    "sealevel_data = pd.read_csv('epa-sea-level.csv')\n",
    "sealevel_data.head()"
   ]
  },
  {
   "cell_type": "code",
   "execution_count": 67,
   "metadata": {},
   "outputs": [],
   "source": [
    "# Good practice to work with a copy of the original data\n",
    "sealevel = sealevel_data.copy()"
   ]
  },
  {
   "cell_type": "code",
   "execution_count": 68,
   "metadata": {},
   "outputs": [
    {
     "data": {
      "text/plain": [
       "(Year                          0\n",
       " CSIRO Adjusted Sea Level      0\n",
       " Lower Error Bound             0\n",
       " Upper Error Bound             0\n",
       " NOAA Adjusted Sea Level     113\n",
       " dtype: int64,\n",
       " (134, 5))"
      ]
     },
     "execution_count": 68,
     "metadata": {},
     "output_type": "execute_result"
    }
   ],
   "source": [
    "# analyzing the dataframe\n",
    "sealevel.isna().sum(), sealevel.shape\n",
    "\n",
    "# there are null values in the NoAA column. "
   ]
  },
  {
   "cell_type": "code",
   "execution_count": 69,
   "metadata": {},
   "outputs": [
    {
     "data": {
      "text/html": [
       "<div>\n",
       "<style scoped>\n",
       "    .dataframe tbody tr th:only-of-type {\n",
       "        vertical-align: middle;\n",
       "    }\n",
       "\n",
       "    .dataframe tbody tr th {\n",
       "        vertical-align: top;\n",
       "    }\n",
       "\n",
       "    .dataframe thead th {\n",
       "        text-align: right;\n",
       "    }\n",
       "</style>\n",
       "<table border=\"1\" class=\"dataframe\">\n",
       "  <thead>\n",
       "    <tr style=\"text-align: right;\">\n",
       "      <th></th>\n",
       "      <th>Year</th>\n",
       "      <th>CSIRO Adjusted Sea Level</th>\n",
       "      <th>Lower Error Bound</th>\n",
       "      <th>Upper Error Bound</th>\n",
       "      <th>NOAA Adjusted Sea Level</th>\n",
       "    </tr>\n",
       "  </thead>\n",
       "  <tbody>\n",
       "    <tr>\n",
       "      <th>113</th>\n",
       "      <td>1993</td>\n",
       "      <td>6.291</td>\n",
       "      <td>6.028</td>\n",
       "      <td>6.555</td>\n",
       "      <td>6.297</td>\n",
       "    </tr>\n",
       "    <tr>\n",
       "      <th>114</th>\n",
       "      <td>1994</td>\n",
       "      <td>6.500</td>\n",
       "      <td>6.236</td>\n",
       "      <td>6.764</td>\n",
       "      <td>6.311</td>\n",
       "    </tr>\n",
       "    <tr>\n",
       "      <th>115</th>\n",
       "      <td>1995</td>\n",
       "      <td>6.618</td>\n",
       "      <td>6.354</td>\n",
       "      <td>6.882</td>\n",
       "      <td>6.453</td>\n",
       "    </tr>\n",
       "    <tr>\n",
       "      <th>116</th>\n",
       "      <td>1996</td>\n",
       "      <td>6.787</td>\n",
       "      <td>6.524</td>\n",
       "      <td>7.051</td>\n",
       "      <td>6.628</td>\n",
       "    </tr>\n",
       "    <tr>\n",
       "      <th>117</th>\n",
       "      <td>1997</td>\n",
       "      <td>7.067</td>\n",
       "      <td>6.803</td>\n",
       "      <td>7.331</td>\n",
       "      <td>6.734</td>\n",
       "    </tr>\n",
       "  </tbody>\n",
       "</table>\n",
       "</div>"
      ],
      "text/plain": [
       "     Year  CSIRO Adjusted Sea Level  Lower Error Bound  Upper Error Bound  \\\n",
       "113  1993                     6.291              6.028              6.555   \n",
       "114  1994                     6.500              6.236              6.764   \n",
       "115  1995                     6.618              6.354              6.882   \n",
       "116  1996                     6.787              6.524              7.051   \n",
       "117  1997                     7.067              6.803              7.331   \n",
       "\n",
       "     NOAA Adjusted Sea Level  \n",
       "113                    6.297  \n",
       "114                    6.311  \n",
       "115                    6.453  \n",
       "116                    6.628  \n",
       "117                    6.734  "
      ]
     },
     "execution_count": 69,
     "metadata": {},
     "output_type": "execute_result"
    }
   ],
   "source": [
    "sealevel.loc[~sealevel['NOAA Adjusted Sea Level'].isna()].head()"
   ]
  },
  {
   "cell_type": "markdown",
   "metadata": {},
   "source": [
    "##### Q1. Use matplotlib to create a scatter plot using the \"Year\" column as the x-axis and the \"CSIRO Adjusted Sea Level\" column as the y-axix."
   ]
  },
  {
   "cell_type": "code",
   "execution_count": 70,
   "metadata": {},
   "outputs": [
    {
     "data": {
      "text/plain": [
       "<matplotlib.collections.PathCollection at 0x1842c4ba8e0>"
      ]
     },
     "execution_count": 70,
     "metadata": {},
     "output_type": "execute_result"
    },
    {
     "data": {
      "image/png": "[encoded data removed]",
      "text/plain": [
       "<Figure size 432x288 with 1 Axes>"
      ]
     },
     "metadata": {},
     "output_type": "display_data"
    }
   ],
   "source": [
    "x = sealevel['Year']\n",
    "y = sealevel['CSIRO Adjusted Sea Level']\n",
    "\n",
    "plt.scatter(x, y)"
   ]
  },
  {
   "cell_type": "markdown",
   "metadata": {},
   "source": [
    "#### Q2. Use the linregress function from scipy.stats to get the slope and y-intercept of the line of best fit. Plot the line of best fit over the top of the scatter plot. Make the line go through the year 2050 to predict the sea level rise in 2050."
   ]
  },
  {
   "cell_type": "code",
   "execution_count": 71,
   "metadata": {},
   "outputs": [],
   "source": [
    "from scipy.stats import  linregress as lr\n",
    "reg_1 = lr(x,y)\n"
   ]
  },
  {
   "cell_type": "code",
   "execution_count": 72,
   "metadata": {},
   "outputs": [
    {
     "data": {
      "text/plain": [
       "-119.06594196773978"
      ]
     },
     "execution_count": 72,
     "metadata": {},
     "output_type": "execute_result"
    }
   ],
   "source": [
    "reg_1.intercept"
   ]
  },
  {
   "cell_type": "code",
   "execution_count": 73,
   "metadata": {},
   "outputs": [
    {
     "data": {
      "image/png": "[encoded data removed]",
      "text/plain": [
       "<Figure size 432x288 with 1 Axes>"
      ]
     },
     "metadata": {},
     "output_type": "display_data"
    }
   ],
   "source": [
    "# I created a series for the years to include the year 2050\n",
    "x_pred = pd.Series([i for i in range(1880, 2051)])\n",
    "\n",
    "# the regression line will be given by\n",
    "y_hat = reg_1.intercept + reg_1.slope*x_pred\n",
    "\n",
    "\n",
    "plt.scatter(x,y)\n",
    "plt.plot(x_pred,y_hat, color='red')\n",
    "\n",
    "#plt.text(1920, 4, 'y=mx +c', fontsize= 10)\n",
    "\n",
    "# The x label should be \"Year\", the y label should be \"Sea Level (inches)\", \n",
    "# and the title should be \"Rise in Sea Level\".\n",
    "plt.xlabel('Years', fontsize=13)\n",
    "plt.ylabel('Sea Level (inches)', fontsize=13)\n",
    "plt.title('Rise in Sea Level', fontsize=17)\n",
    "\n",
    "\n",
    "plt.show()"
   ]
  },
  {
   "cell_type": "code",
   "execution_count": 74,
   "metadata": {},
   "outputs": [
    {
     "data": {
      "text/plain": [
       "10.175455257136548"
      ]
     },
     "execution_count": 74,
     "metadata": {},
     "output_type": "execute_result"
    }
   ],
   "source": [
    "# Using the current regression line, the exact prediction of the sea level at year 2050 will be:\n",
    "y_hat_2050 = reg_1.intercept + reg_1.slope * 2050\n",
    "y_hat_2050"
   ]
  },
  {
   "cell_type": "code",
   "execution_count": 75,
   "metadata": {},
   "outputs": [
    {
     "data": {
      "text/plain": [
       "Text(0.5, 1.0, 'Rise in Sea Level')"
      ]
     },
     "execution_count": 75,
     "metadata": {},
     "output_type": "execute_result"
    },
    {
     "data": {
      "image/png": "[encoded data removed]",
      "text/plain": [
       "<Figure size 432x288 with 1 Axes>"
      ]
     },
     "metadata": {},
     "output_type": "display_data"
    }
   ],
   "source": [
    "# to get line of best fit, we run the same code, but the years begin with year 2000\n",
    "x_pred = pd.Series([i for i in range(1880, 2051)])\n",
    "\n",
    "# the regression line will be given by\n",
    "y_hat = reg_1.intercept + reg_1.slope * x_pred\n",
    "\n",
    "# for line of best fit, starting with year 2000\n",
    "df2 = sealevel.loc[sealevel['Year'] >= 2000]\n",
    "x2 = sealevel['Year']\n",
    "y2 = sealevel['CSIRO Adjusted Sea Level']\n",
    "\n",
    "reg_2 = lr(x2, y2)\n",
    "\n",
    "x_pred2 = pd.Series([i for i in range(2000, 2051)])\n",
    "y_hat2 = reg_2.intercept + reg_2.slope * x_pred2\n",
    "\n",
    "\n",
    "plt.scatter(x,y)\n",
    "#plt.scatter(x2,y2)\n",
    "plt.plot(x_pred,y_hat, color='red')\n",
    "plt.plot(x_pred2, y_hat2, color= 'green')\n",
    "\n",
    "#plt.text(1920, 4, 'y=mx +c', fontsize= 10)\n",
    "\n",
    "# The x label should be \"Year\", the y label should be \"Sea Level (inches)\", \n",
    "# and the title should be \"Rise in Sea Level\".\n",
    "plt.xlabel('Years', fontsize=13)\n",
    "plt.ylabel('Sea Level (inches)', fontsize=13)\n",
    "plt.title('Rise in Sea Level', fontsize=17)"
   ]
  },
  {
   "cell_type": "code",
   "execution_count": 76,
   "metadata": {},
   "outputs": [
    {
     "data": {
      "text/plain": [
       "10.175455257136548"
      ]
     },
     "execution_count": 76,
     "metadata": {},
     "output_type": "execute_result"
    }
   ],
   "source": [
    "y_hat_2050_2 = reg_2.intercept + reg_2.slope * 2050\n",
    "y_hat_2050_2"
   ]
  }
 ],
 "metadata": {
  "kernelspec": {
   "display_name": "Python 3",
   "language": "python",
   "name": "python3"
  },
  "language_info": {
   "codemirror_mode": {
    "name": "ipython",
    "version": 3
   },
   "file_extension": ".py",
   "mimetype": "text/x-python",
   "name": "python",
   "nbconvert_exporter": "python",
   "pygments_lexer": "ipython3",
   "version": "3.10.0"
  }
 },
 "nbformat": 4,
 "nbformat_minor": 2
}
