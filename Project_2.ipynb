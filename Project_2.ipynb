{
 "cells": [
  {
   "cell_type": "markdown",
   "metadata": {},
   "source": [
    "## Load the data"
   ]
  },
  {
   "cell_type": "code",
   "execution_count": 2,
   "metadata": {},
   "outputs": [],
   "source": [
    "import numpy as np\n",
    "import pandas as pd\n",
    "import seaborn as sns\n",
    "import matplotlib.pyplot as plt\n",
    "sns.set()"
   ]
  },
  {
   "cell_type": "markdown",
   "metadata": {},
   "source": [
    "Create a function named calculate() in mean_var_std.py that uses Numpy to output the mean, variance, standard deviation, max, min, and sum of the rows, columns, and elements in a 3 x 3 matrix.\n",
    "\n",
    "The input of the function should be a list containing 9 digits. The function should convert the list into a 3 x 3 Numpy array, and then return a dictionary containing the mean, variance, standard deviation, max, min, and sum along both axes and for the flattened matrix.\n",
    "\n",
    "The returned dictionary should follow this format:\n",
    "\n",
    "{\n",
    "  'mean': [axis1, axis2, flattened],\n",
    "  'variance': [axis1, axis2, flattened],\n",
    "  'standard deviation': [axis1, axis2, flattened],\n",
    "  'max': [axis1, axis2, flattened],\n",
    "  'min': [axis1, axis2, flattened],\n",
    "  'sum': [axis1, axis2, flattened]\n",
    "}\n",
    "\n",
    "\n",
    "If a list containing less than 9 elements is passed into the function, it should raise a ValueError exception with the message: \"List must contain nine numbers.\" The values in the returned dictionary should be lists and not Numpy arrays."
   ]
  },
  {
   "cell_type": "code",
   "execution_count": 63,
   "metadata": {},
   "outputs": [
    {
     "data": {
      "text/plain": [
       "array([[1, 2, 3],\n",
       "       [4, 5, 6],\n",
       "       [7, 8, 9]])"
      ]
     },
     "execution_count": 63,
     "metadata": {},
     "output_type": "execute_result"
    }
   ],
   "source": [
    "my_array = np.array([[1,2,3], [4,5,6], [7,8,9]])\n",
    "my_array"
   ]
  },
  {
   "cell_type": "code",
   "execution_count": 58,
   "metadata": {},
   "outputs": [],
   "source": [
    "# let's create the function 'Calculate'\n",
    "def Calculate(a_list):\n",
    "    if len(a_list) != 9:\n",
    "        raise ValueError('The list must contain only 9 numbers')\n",
    "    else:\n",
    "        to_array = np.array(a_list)\n",
    "        my_matrix = to_array.reshape(3,3)\n",
    "        \n",
    "        # calc mean of the rows, cols and the flattened list\n",
    "        \n",
    "        mean_rows = [np.mean(my_matrix[i]) for i in range(3)]\n",
    "        mean_cols = [np.mean(my_matrix[:,i]) for i in range(3)]\n",
    "        mean_flat = [np.mean(a_list)]\n",
    "        \n",
    "        # calc variance of rows, cols, and flattened list\n",
    "        var_rows = [np.var(my_matrix[i]) for i in range(3)]\n",
    "        var_cols = [np.var(my_matrix[:,i]) for i in range(3)]\n",
    "        var_flat = [np.var(a_list)]\n",
    "\n",
    "        # calc standard deviation of rows, cols, and flatted list\n",
    "        std_rows = [np.std(my_matrix[i]) for i in range(3)]\n",
    "        std_cols = [np.std(my_matrix[:,i]) for i in range(3)]\n",
    "        std_flat = [np.std(a_list)]\n",
    "\n",
    "        # calc min\n",
    "        min_rows = [np.min(my_matrix[i]) for i in range(3)]\n",
    "        min_cols = [np.min(my_matrix[:,i]) for i in range(3)]\n",
    "        min_flat = [np.max(a_list)]\n",
    "\n",
    "        # calc max\n",
    "        max_rows = [np.max(my_matrix[i]) for i in range(3)]\n",
    "        max_cols = [np.max(my_matrix[:,i]) for i in range(3)]\n",
    "        max_flat = [np.max(a_list)]\n",
    "        \n",
    "        # sum \n",
    "        sum_rows = [np.sum(my_matrix[i]) for i in range(3)]\n",
    "        sum_cols = [np.sum(my_matrix[:,i]) for i in range(3)]\n",
    "        sum_flat = [np.sum(a_list)]\n",
    "\n",
    "\n",
    "        # create dictionary\n",
    "        results = {\n",
    "            'mean': [mean_rows, mean_cols, mean_flat],\n",
    "            'variance': [var_rows, var_cols, var_flat],\n",
    "            'std': [std_rows, std_cols, std_flat],\n",
    "            'max': [max_rows, max_cols, max_flat],\n",
    "            'min': [min_rows, min_cols, min_flat],\n",
    "            'sum': [sum_rows, sum_cols, sum_flat]\n",
    "        }\n",
    "\n",
    "\n",
    "    return results\n",
    "    \n",
    "            \n",
    "\n",
    "        "
   ]
  },
  {
   "cell_type": "markdown",
   "metadata": {},
   "source": [
    "### Testing the function"
   ]
  },
  {
   "cell_type": "code",
   "execution_count": 39,
   "metadata": {},
   "outputs": [
    {
     "data": {
      "text/plain": [
       "array([-1.00334172, -2.12636598, -0.05226447,  0.34862992, -1.29910389])"
      ]
     },
     "execution_count": 39,
     "metadata": {},
     "output_type": "execute_result"
    }
   ],
   "source": [
    "test_list = np.random.randn(5)\n",
    "test_list"
   ]
  },
  {
   "cell_type": "code",
   "execution_count": 54,
   "metadata": {},
   "outputs": [],
   "source": [
    "test_list2 = []\n",
    "for i in range(0,9):\n",
    "    n = np.random.randint(1,10)\n",
    "    test_list2.append(n)"
   ]
  },
  {
   "cell_type": "code",
   "execution_count": 61,
   "metadata": {},
   "outputs": [
    {
     "ename": "ValueError",
     "evalue": "The list must contain only 9 numbers",
     "output_type": "error",
     "traceback": [
      "\u001b[1;31m---------------------------------------------------------------------------\u001b[0m",
      "\u001b[1;31mValueError\u001b[0m                                Traceback (most recent call last)",
      "\u001b[1;32mC:\\Users\\LIZEGB~1\\AppData\\Local\\Temp/ipykernel_32356/2459992401.py\u001b[0m in \u001b[0;36m<module>\u001b[1;34m\u001b[0m\n\u001b[1;32m----> 1\u001b[1;33m \u001b[0mCalculate\u001b[0m\u001b[1;33m(\u001b[0m\u001b[0mtest_list\u001b[0m\u001b[1;33m)\u001b[0m \u001b[1;31m# this gives an error\u001b[0m\u001b[1;33m\u001b[0m\u001b[1;33m\u001b[0m\u001b[0m\n\u001b[0m",
      "\u001b[1;32mC:\\Users\\LIZEGB~1\\AppData\\Local\\Temp/ipykernel_32356/2495757738.py\u001b[0m in \u001b[0;36mCalculate\u001b[1;34m(a_list)\u001b[0m\n\u001b[0;32m      2\u001b[0m \u001b[1;32mdef\u001b[0m \u001b[0mCalculate\u001b[0m\u001b[1;33m(\u001b[0m\u001b[0ma_list\u001b[0m\u001b[1;33m)\u001b[0m\u001b[1;33m:\u001b[0m\u001b[1;33m\u001b[0m\u001b[1;33m\u001b[0m\u001b[0m\n\u001b[0;32m      3\u001b[0m     \u001b[1;32mif\u001b[0m \u001b[0mlen\u001b[0m\u001b[1;33m(\u001b[0m\u001b[0ma_list\u001b[0m\u001b[1;33m)\u001b[0m \u001b[1;33m!=\u001b[0m \u001b[1;36m9\u001b[0m\u001b[1;33m:\u001b[0m\u001b[1;33m\u001b[0m\u001b[1;33m\u001b[0m\u001b[0m\n\u001b[1;32m----> 4\u001b[1;33m         \u001b[1;32mraise\u001b[0m \u001b[0mValueError\u001b[0m\u001b[1;33m(\u001b[0m\u001b[1;34m'The list must contain only 9 numbers'\u001b[0m\u001b[1;33m)\u001b[0m\u001b[1;33m\u001b[0m\u001b[1;33m\u001b[0m\u001b[0m\n\u001b[0m\u001b[0;32m      5\u001b[0m     \u001b[1;32melse\u001b[0m\u001b[1;33m:\u001b[0m\u001b[1;33m\u001b[0m\u001b[1;33m\u001b[0m\u001b[0m\n\u001b[0;32m      6\u001b[0m         \u001b[0mto_array\u001b[0m \u001b[1;33m=\u001b[0m \u001b[0mnp\u001b[0m\u001b[1;33m.\u001b[0m\u001b[0marray\u001b[0m\u001b[1;33m(\u001b[0m\u001b[0ma_list\u001b[0m\u001b[1;33m)\u001b[0m\u001b[1;33m\u001b[0m\u001b[1;33m\u001b[0m\u001b[0m\n",
      "\u001b[1;31mValueError\u001b[0m: The list must contain only 9 numbers"
     ]
    }
   ],
   "source": [
    "Calculate(test_list) # this gives an error\n"
   ]
  },
  {
   "cell_type": "code",
   "execution_count": 62,
   "metadata": {},
   "outputs": [
    {
     "data": {
      "text/plain": [
       "{'mean': [[7.0, 5.666666666666667, 6.0],\n",
       "  [8.333333333333334, 6.333333333333333, 4.0],\n",
       "  [6.222222222222222]],\n",
       " 'variance': [[0.6666666666666666, 11.555555555555557, 2.0],\n",
       "  [0.2222222222222222, 0.888888888888889, 4.666666666666667],\n",
       "  [5.061728395061728]],\n",
       " 'std': [[0.816496580927726, 3.39934634239519, 1.4142135623730951],\n",
       "  [0.4714045207910317, 0.9428090415820634, 2.160246899469287],\n",
       "  [2.249828525701843]],\n",
       " 'max': [[8, 9, 8], [9, 7, 6], [9]],\n",
       " 'min': [[6, 1, 5], [8, 5, 1], [9]],\n",
       " 'sum': [[21, 17, 18], [25, 19, 12], [56]]}"
      ]
     },
     "execution_count": 62,
     "metadata": {},
     "output_type": "execute_result"
    }
   ],
   "source": [
    "# this works\n",
    "Calculate(test_list2)"
   ]
  }
 ],
 "metadata": {
  "kernelspec": {
   "display_name": "Python 3",
   "language": "python",
   "name": "python3"
  },
  "language_info": {
   "codemirror_mode": {
    "name": "ipython",
    "version": 3
   },
   "file_extension": ".py",
   "mimetype": "text/x-python",
   "name": "python",
   "nbconvert_exporter": "python",
   "pygments_lexer": "ipython3",
   "version": "3.9.7"
  }
 },
 "nbformat": 4,
 "nbformat_minor": 2
}
